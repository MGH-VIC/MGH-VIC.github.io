{
 "cells": [
  {
   "cell_type": "markdown",
   "id": "e371715b",
   "metadata": {},
   "source": [
    "# HE TMA core extraction"
   ]
  },
  {
   "cell_type": "code",
   "execution_count": 1,
   "id": "bca09532",
   "metadata": {},
   "outputs": [
    {
     "data": {
      "text/plain": [
       "'/opt/conda/envs/miaaim-dev/bin/python'"
      ]
     },
     "execution_count": 1,
     "metadata": {},
     "output_type": "execute_result"
    }
   ],
   "source": [
    "# import other modules\n",
    "import skimage.io\n",
    "import numpy as np\n",
    "import pandas as pd\n",
    "from pathlib import Path\n",
    "from tqdm import tqdm\n",
    "# check versions and environment executable\n",
    "import sys\n",
    "sys.version\n",
    "sys.executable"
   ]
  },
  {
   "cell_type": "markdown",
   "id": "358950a7",
   "metadata": {},
   "source": [
    "------\n",
    "### Read core labels and export individual ROIs\n",
    "------"
   ]
  },
  {
   "cell_type": "code",
   "execution_count": 2,
   "id": "8cbadd9d",
   "metadata": {},
   "outputs": [],
   "source": [
    "# set path to data folder\n",
    "data_folder = Path(\"/opt/miaaim-20220912-TMA4/data\")\n",
    "# set the path to the imaging data\n",
    "path_to_modality = data_folder.joinpath(\"20220912-TMA4-he.ndpi\")\n",
    "# read he high resolution (series 0)\n",
    "he = skimage.io.imread(path_to_modality)\n",
    "# read coordinates at 4x downsampling\n",
    "crop_coords = pd.read_csv(data_folder.joinpath(\"20220912-TMA4-he-labels-4x.csv\"))"
   ]
  },
  {
   "cell_type": "code",
   "execution_count": 3,
   "id": "e440c211",
   "metadata": {},
   "outputs": [
    {
     "name": "stderr",
     "output_type": "stream",
     "text": [
      "100%|████████████████████████████████████████████████████████████████████████████████████████████████████████████████████████| 55/55 [00:43<00:00,  1.26it/s]\n"
     ]
    }
   ],
   "source": [
    "# iterate over and export cores from labelling\n",
    "for c in tqdm(range(crop_coords.shape[0])):\n",
    "    # get coordinates and name of ROI from TMA labelling\n",
    "    x,y,w,h,n = crop_coords.loc[c,['X','Y','Width','Height', 'Name']].values\n",
    "    # crop core and transform by factor of 4\n",
    "    heCrop = he[y*4:y*4+h*4,x*4:x*4+w*4].copy()\n",
    "    # transform to align with IMC data\n",
    "    heCrop = np.fliplr(np.flipud(heCrop))\n",
    "    # get core folder name\n",
    "    heCoreFolder = data_folder.joinpath(f\"{n}/input/he\")\n",
    "    if not heCoreFolder.exists():\n",
    "        heCoreFolder.mkdir()\n",
    "    # export image as tiff\n",
    "    skimage.io.imsave(heCoreFolder.joinpath(f\"{n}.tiff\"),heCrop)"
   ]
  },
  {
   "cell_type": "code",
   "execution_count": null,
   "id": "98e52266",
   "metadata": {},
   "outputs": [],
   "source": []
  }
 ],
 "metadata": {
  "kernelspec": {
   "display_name": "Python 3 (ipykernel)",
   "language": "python",
   "name": "python3"
  },
  "language_info": {
   "codemirror_mode": {
    "name": "ipython",
    "version": 3
   },
   "file_extension": ".py",
   "mimetype": "text/x-python",
   "name": "python",
   "nbconvert_exporter": "python",
   "pygments_lexer": "ipython3",
   "version": "3.12.3"
  }
 },
 "nbformat": 4,
 "nbformat_minor": 5
}
