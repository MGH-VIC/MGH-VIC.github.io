{
 "cells": [
  {
   "cell_type": "markdown",
   "id": "e371715b",
   "metadata": {},
   "source": [
    "# MSI Export to HDF5"
   ]
  },
  {
   "cell_type": "code",
   "execution_count": 5,
   "id": "bca09532",
   "metadata": {},
   "outputs": [
    {
     "data": {
      "text/plain": [
       "'/opt/conda/envs/miaaim-dev/bin/python'"
      ]
     },
     "execution_count": 5,
     "metadata": {},
     "output_type": "execute_result"
    }
   ],
   "source": [
    "# import custom modules\n",
    "from miaaim.io.imwrite._export import HDIexporter\n",
    "\n",
    "# import other modules\n",
    "import numpy as np\n",
    "from scipy.interpolate import griddata\n",
    "from scipy.spatial import KDTree\n",
    "import pandas as pd\n",
    "from pathlib import Path\n",
    "from tqdm import tqdm\n",
    "# check versions and environment executable\n",
    "import sys\n",
    "sys.version\n",
    "sys.executable"
   ]
  },
  {
   "cell_type": "markdown",
   "id": "358950a7",
   "metadata": {},
   "source": [
    "------\n",
    "### Set paths to csv data with root mean square normalized MSI data\n",
    "------"
   ]
  },
  {
   "cell_type": "code",
   "execution_count": 6,
   "id": "8cbadd9d",
   "metadata": {},
   "outputs": [],
   "source": [
    "# set path to data folder\n",
    "data_folder = Path(\"/opt/miaaim-20220912-TMA4/data\")\n",
    "# get list of cores\n",
    "coreFolders = [ x for x in list(data_folder.iterdir()) if x.is_dir() ]"
   ]
  },
  {
   "cell_type": "markdown",
   "id": "738c821c",
   "metadata": {},
   "source": [
    "------\n",
    "### Convert to HDF5 and export\n",
    "------"
   ]
  },
  {
   "cell_type": "code",
   "execution_count": 7,
   "id": "194aa78a",
   "metadata": {},
   "outputs": [],
   "source": [
    "# read csv file with MSI data\n",
    "msiRMS = pd.read_csv(data_folder.joinpath(\"msi_rms_tma_peptides.csv\"))"
   ]
  },
  {
   "cell_type": "code",
   "execution_count": 8,
   "id": "e440c211",
   "metadata": {},
   "outputs": [],
   "source": [
    "# get unique TMA core names\n",
    "coreNames = msiRMS.Region.unique()\n",
    "# get columns of csv file with m/z information\n",
    "mzCols = [ msiRMS.columns[i] for i in range(len(msiRMS.columns)) if 'm.z' in msiRMS.columns[i] ] \n",
    "# set the size of a pixel in the MSI data\n",
    "pixRes = 20.0"
   ]
  },
  {
   "cell_type": "code",
   "execution_count": 9,
   "id": "dc65c383",
   "metadata": {},
   "outputs": [
    {
     "name": "stderr",
     "output_type": "stream",
     "text": [
      "100%|████████████████████████████████████████████████████████████████████████████████████████████████████████████████████████| 48/48 [02:24<00:00,  3.01s/it]\n"
     ]
    }
   ],
   "source": [
    "# iterate through cores and extract data\n",
    "for c in tqdm(coreNames):\n",
    "    # get the name to match to the core \n",
    "    reg = c.replace(\" \",\"\")\n",
    "    # get the corresponding core folder\n",
    "    coreFolder = [ x for x in coreFolders if x.name.endswith(reg) ][0]\n",
    "    # get the name of this folder\n",
    "    name = coreFolder.name\n",
    "    # get the input folder\n",
    "    inputFolder = coreFolder.joinpath(\"input/msi\")\n",
    "    \n",
    "    # get the data for this core\n",
    "    data = msiRMS[msiRMS.Region == c]\n",
    "    \n",
    "    # write the data as a csv to msi data folder\n",
    "    # data.to_csv(inputFolder.joinpath(name+\".csv\"))\n",
    "    \n",
    "    # get xy centroids\n",
    "    x,y = data.x, data.y\n",
    "    # get mz data\n",
    "    mzs = data[mzCols]\n",
    "    # get max and min xy positions\n",
    "    max_x = int(np.ceil(x.max()))\n",
    "    min_x = int(np.floor(x.min()))\n",
    "    max_y = int(np.ceil(y.max()))\n",
    "    min_y = int(np.floor(y.min()))\n",
    "    \n",
    "    # subtract xy to scale to origin (0,0)\n",
    "    x = (max_x - x)/pixRes\n",
    "    y = (max_y - y)/pixRes\n",
    "    \n",
    "    # interpolation\n",
    "    # generate a grid where the interpolation will be calculated\n",
    "    X, Y = np.meshgrid(np.arange((max_x-min_x)/pixRes), np.arange((max_y-min_y)/pixRes))\n",
    "    \n",
    "    # iterate over pixels and create image with nearest neighbor interpolation\n",
    "    # to preserve range\n",
    "    data_cube = griddata(np.vstack((x, y)).T, mzs, (X, Y), method='nearest')\n",
    "    # get interpolated data for nan outside of convex hull\n",
    "    data_cube_nan_idx = griddata(np.vstack((x, y)).T, mzs, (X, Y), method='cubic')\n",
    "    \n",
    "    # create mask for pixel data\n",
    "    mask = np.zeros((data_cube.shape[0], data_cube.shape[1]),dtype='uint8')\n",
    "    mask[~np.isnan(data_cube_nan_idx[:,:,0])] = 255\n",
    "    # replace nan with 0s\n",
    "    data_cube[np.isnan(data_cube)] = 0\n",
    "    \n",
    "    # flip left right for alignment to IMC data\n",
    "    data_cube = np.fliplr(data_cube)\n",
    "    mask = np.fliplr(mask)\n",
    "\n",
    "    # write array to hdf5\n",
    "    HDIexporter(data_cube,inputFolder.joinpath(name+\".hdf5\"))\n",
    "    # write mask\n",
    "    HDIexporter(mask,inputFolder.joinpath(name+\"_mask.tiff\"))"
   ]
  },
  {
   "cell_type": "code",
   "execution_count": null,
   "id": "f55f386f-d9ee-4832-8359-d399c80d0b54",
   "metadata": {},
   "outputs": [],
   "source": []
  }
 ],
 "metadata": {
  "kernelspec": {
   "display_name": "Python 3 (ipykernel)",
   "language": "python",
   "name": "python3"
  },
  "language_info": {
   "codemirror_mode": {
    "name": "ipython",
    "version": 3
   },
   "file_extension": ".py",
   "mimetype": "text/x-python",
   "name": "python",
   "nbconvert_exporter": "python",
   "pygments_lexer": "ipython3",
   "version": "3.12.3"
  }
 },
 "nbformat": 4,
 "nbformat_minor": 5
}
