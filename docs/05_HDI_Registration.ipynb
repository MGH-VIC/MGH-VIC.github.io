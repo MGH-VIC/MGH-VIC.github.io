{
 "cells": [
  {
   "cell_type": "markdown",
   "id": "3eb30e14-c029-4111-b877-da7752e31516",
   "metadata": {},
   "source": [
    "# HDI Registration"
   ]
  },
  {
   "cell_type": "code",
   "execution_count": 1,
   "id": "ad9d49f8-5fb7-463e-893c-764e2c22d0de",
   "metadata": {
    "execution": {
     "iopub.execute_input": "2025-04-19T00:33:16.791181Z",
     "iopub.status.busy": "2025-04-19T00:33:16.791084Z",
     "iopub.status.idle": "2025-04-19T00:33:16.885444Z",
     "shell.execute_reply": "2025-04-19T00:33:16.885136Z"
    }
   },
   "outputs": [
    {
     "ename": "ModuleNotFoundError",
     "evalue": "No module named 'miaaim'",
     "output_type": "error",
     "traceback": [
      "\u001b[31m---------------------------------------------------------------------------\u001b[39m",
      "\u001b[31mModuleNotFoundError\u001b[39m                       Traceback (most recent call last)",
      "\u001b[36mCell\u001b[39m\u001b[36m \u001b[39m\u001b[32mIn[1]\u001b[39m\u001b[32m, line 3\u001b[39m\n\u001b[32m      1\u001b[39m \u001b[38;5;66;03m# Extract cores from TMA using morphological operations\u001b[39;00m\n\u001b[32m      2\u001b[39m \u001b[38;5;66;03m# import custom modules\u001b[39;00m\n\u001b[32m----> \u001b[39m\u001b[32m3\u001b[39m \u001b[38;5;28;01mfrom\u001b[39;00m\u001b[38;5;250m \u001b[39m\u001b[34;01mmiaaim\u001b[39;00m\u001b[34;01m.\u001b[39;00m\u001b[34;01mreg\u001b[39;00m\u001b[34;01m.\u001b[39;00m\u001b[34;01melastix\u001b[39;00m\u001b[38;5;250m \u001b[39m\u001b[38;5;28;01mimport\u001b[39;00m Elastix\n\u001b[32m      4\u001b[39m \u001b[38;5;28;01mfrom\u001b[39;00m\u001b[38;5;250m \u001b[39m\u001b[34;01mmiaaim\u001b[39;00m\u001b[34;01m.\u001b[39;00m\u001b[34;01mreg\u001b[39;00m\u001b[34;01m.\u001b[39;00m\u001b[34;01m_utils\u001b[39;00m\u001b[38;5;250m \u001b[39m\u001b[38;5;28;01mimport\u001b[39;00m FormatFijiLandmarkPoints\n\u001b[32m      5\u001b[39m \u001b[38;5;28;01mfrom\u001b[39;00m\u001b[38;5;250m \u001b[39m\u001b[34;01mmiaaim\u001b[39;00m\u001b[34;01m.\u001b[39;00m\u001b[34;01mio\u001b[39;00m\u001b[34;01m.\u001b[39;00m\u001b[34;01mimread\u001b[39;00m\u001b[38;5;250m \u001b[39m\u001b[38;5;28;01mimport\u001b[39;00m _import\n",
      "\u001b[31mModuleNotFoundError\u001b[39m: No module named 'miaaim'"
     ]
    }
   ],
   "source": [
    "# Extract cores from TMA using morphological operations\n",
    "# import custom modules\n",
    "from miaaim.reg.elastix import Elastix\n",
    "from miaaim.reg._utils import FormatFijiLandmarkPoints\n",
    "from miaaim.io.imread import _import\n",
    "\n",
    "# import other modules\n",
    "import pandas as pd\n",
    "from pathlib import Path\n",
    "import os\n",
    "# check versions and environment executable\n",
    "import sys\n",
    "\n",
    "sys.version\n",
    "sys.executable"
   ]
  },
  {
   "cell_type": "code",
   "execution_count": 2,
   "id": "daee5bbd-cf7e-47d3-81b7-2d40ccaf8315",
   "metadata": {
    "execution": {
     "iopub.execute_input": "2025-04-19T00:33:16.886646Z",
     "iopub.status.busy": "2025-04-19T00:33:16.886546Z",
     "iopub.status.idle": "2025-04-19T00:33:16.890084Z",
     "shell.execute_reply": "2025-04-19T00:33:16.889815Z"
    }
   },
   "outputs": [],
   "source": [
    "def RegisterDataSet(core_name, data_folder):\n",
    "    \"\"\"Helper function to perform MSI to IMC registration\n",
    "    with H&E intermediate.\n",
    "\n",
    "    core_name: string indicating core name (in data folder)\n",
    "\n",
    "    data_folder: Pathlib object indicating data folder for project\n",
    "    \"\"\"\n",
    "\n",
    "    # set path to core folder (root_folder below)\n",
    "    core_folder = data_folder.joinpath(f\"{core_name}\")\n",
    "    # set the path to the imaging data\n",
    "    he = data_folder.joinpath(f\"{core_name}/preprocessing/he/{core_name}_core.nii\")\n",
    "    msi = data_folder.joinpath(f\"{core_name}/preprocessing/msi/{core_name}_core_msi_UMAP.nii\")\n",
    "    imc = data_folder.joinpath(f\"{core_name}/preprocessing/imc/{core_name}_core_UMAP.nii\")\n",
    "\n",
    "    # set path to original MSI data to transform\n",
    "    input_msi = core_folder.joinpath(f\"input/msi/{core_name}.hdf5\")\n",
    "\n",
    "    # set output directory\n",
    "    registration_dir = data_folder.joinpath(f\"{core_name}/registration\")\n",
    "\n",
    "    # create landmark text files\n",
    "    he_landmarks = FormatFijiLandmarkPoints(registration_dir.joinpath(f\"{core_name}_core.txt\"),\n",
    "                                            selection_type='index')\n",
    "    msi_landmarks = FormatFijiLandmarkPoints(registration_dir.joinpath(f\"{core_name}_core_msi_UMAP.txt\"),\n",
    "                                             selection_type='index')\n",
    "    imc_landmarks = FormatFijiLandmarkPoints(registration_dir.joinpath(f\"{core_name}_core_UMAP.txt\"),\n",
    "                                             selection_type='index')\n",
    "\n",
    "    # set parameter files\n",
    "    landmark_p_msi_he = [registration_dir.joinpath(\"10_landmark_affine.txt\"),\n",
    "                         registration_dir.joinpath(\"11_landmark_bspline.txt\")]\n",
    "    p_msi_he = [registration_dir.joinpath(\"12_aMI_affine.txt\"),\n",
    "                registration_dir.joinpath(\"13_aMI_bspline.txt\")]\n",
    "    landmark_p_he_imc = [registration_dir.joinpath(\"20_landmark_affine.txt\"),\n",
    "                         registration_dir.joinpath(\"21_landmark_bspline.txt\")]\n",
    "    p_he_imc = [registration_dir.joinpath(\"22_aMI_affine.txt\"),\n",
    "                registration_dir.joinpath(\"23_aMI_bspline.txt\")]\n",
    "\n",
    "    # create elastix registration class\n",
    "    msi_he_reg = Elastix(root_folder=core_folder,\n",
    "                         name=\"msi-he\",\n",
    "                         resume=False)\n",
    "\n",
    "    # perform registration procedure\n",
    "    msi_he_reg.Register(fixed=he,\n",
    "                        moving=msi,\n",
    "                        p=p_msi_he,\n",
    "                        landmark_p=None,\n",
    "                        out_dir=None,\n",
    "                        fp=he_landmarks,\n",
    "                        mp=msi_landmarks,\n",
    "                        fMask=None,\n",
    "                        multichannel=True)\n",
    "\n",
    "    # transform UMAP msi representation for visualization\n",
    "    msi_he_reg.Transform(in_im=None,\n",
    "                         out_dir=None,\n",
    "                         tps=None,\n",
    "                         target_size=None,\n",
    "                         pad=None,\n",
    "                         trim=None,\n",
    "                         crops=None,\n",
    "                         out_ext=\".nii\")\n",
    "\n",
    "    # export QC information\n",
    "    msi_he_reg.QC()"
   ]
  },
  {
   "cell_type": "code",
   "execution_count": 3,
   "id": "afb3520d-3db0-4b9d-9286-454fae7a495f",
   "metadata": {
    "execution": {
     "iopub.execute_input": "2025-04-19T00:33:16.891153Z",
     "iopub.status.busy": "2025-04-19T00:33:16.891053Z",
     "iopub.status.idle": "2025-04-19T00:33:16.903174Z",
     "shell.execute_reply": "2025-04-19T00:33:16.902911Z"
    }
   },
   "outputs": [
    {
     "ename": "NameError",
     "evalue": "name 'Path' is not defined",
     "output_type": "error",
     "traceback": [
      "\u001b[31m---------------------------------------------------------------------------\u001b[39m",
      "\u001b[31mNameError\u001b[39m                                 Traceback (most recent call last)",
      "\u001b[36mCell\u001b[39m\u001b[36m \u001b[39m\u001b[32mIn[3]\u001b[39m\u001b[32m, line 2\u001b[39m\n\u001b[32m      1\u001b[39m \u001b[38;5;66;03m# set path to data folder\u001b[39;00m\n\u001b[32m----> \u001b[39m\u001b[32m2\u001b[39m data_folder = \u001b[43mPath\u001b[49m(\u001b[33m\"\u001b[39m\u001b[33m/opt/miaaim-20220912-TMA4/data\u001b[39m\u001b[33m\"\u001b[39m)\n\u001b[32m      3\u001b[39m \u001b[38;5;66;03m# get list of all core names in the data folder\u001b[39;00m\n\u001b[32m      4\u001b[39m \u001b[38;5;66;03m# check to make sure we have the core folders for only prostate samples which have\u001b[39;00m\n\u001b[32m      5\u001b[39m \u001b[38;5;66;03m# multimodal data (here, indicated by /registration folder)\u001b[39;00m\n\u001b[32m      6\u001b[39m core_folders = [data_folder.joinpath(c) \u001b[38;5;28;01mfor\u001b[39;00m c \u001b[38;5;129;01min\u001b[39;00m os.listdir(data_folder) \u001b[38;5;28;01mif\u001b[39;00m data_folder.joinpath(c).is_dir()]\n",
      "\u001b[31mNameError\u001b[39m: name 'Path' is not defined"
     ]
    }
   ],
   "source": [
    "# set path to data folder\n",
    "data_folder = Path(\"/opt/miaaim-20220912-TMA4/data\")\n",
    "# get list of all core names in the data folder\n",
    "# check to make sure we have the core folders for only prostate samples which have\n",
    "# multimodal data (here, indicated by /registration folder)\n",
    "core_folders = [data_folder.joinpath(c) for c in os.listdir(data_folder) if data_folder.joinpath(c).is_dir()]\n",
    "core_folders = [c for c in core_folders if Path(f\"{c}/registration\").is_dir()]\n",
    "\n",
    "# iterate through data set and register\n",
    "for c in core_folders[1:2]:\n",
    "    # register\n",
    "    RegisterDataSet(core_name=c.name, data_folder=data_folder)"
   ]
  }
 ],
 "metadata": {
  "kernelspec": {
   "display_name": "Python 3 (ipykernel)",
   "language": "python",
   "name": "python3"
  },
  "language_info": {
   "codemirror_mode": {
    "name": "ipython",
    "version": 3
   },
   "file_extension": ".py",
   "mimetype": "text/x-python",
   "name": "python",
   "nbconvert_exporter": "python",
   "pygments_lexer": "ipython3",
   "version": "3.12.3"
  }
 },
 "nbformat": 4,
 "nbformat_minor": 5
}
